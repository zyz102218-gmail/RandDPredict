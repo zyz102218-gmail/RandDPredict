{
 "cells": [
  {
   "cell_type": "code",
   "execution_count": 1,
   "metadata": {},
   "outputs": [],
   "source": [
    "import pandas as pd\n",
    "import numpy as np"
   ]
  },
  {
   "cell_type": "code",
   "execution_count": 13,
   "metadata": {},
   "outputs": [],
   "source": [
    "# org_data = pd.read_excel(\"2017-ZHU.xlsx\",sheet_name='Sheet1')\n",
    "# predict_data = pd.read_excel(\"2017-ZHU.xlsx\",sheet_name=\"Sheet2\")\n",
    "org_data = pd.read_excel(\"input.xlsx\",sheet_name=\"Sheet1\",header=None)\n",
    "predict_data = pd.read_excel(\"input.xlsx\",sheet_name='Sheet2',header=None)"
   ]
  },
  {
   "cell_type": "code",
   "execution_count": 34,
   "metadata": {},
   "outputs": [],
   "source": [
    "unpredict_a  = np.array(org_data.loc[0:41,0:41])     # 原始数据矩阵\n",
    "row_sums = np.array(predict_data.loc[0:41,42])       # 42个列和\n",
    "column_sums = np.array(predict_data.loc[42,0:41])    # 42个行和\n"
   ]
  },
  {
   "cell_type": "code",
   "execution_count": 45,
   "metadata": {},
   "outputs": [
    {
     "name": "stdout",
     "output_type": "stream",
     "text": [
      "Converged in 16 iterations.\n",
      "调整后的矩阵:\n",
      "[[1.43236753e+08 2.16029344e+05 3.04159666e+03 ... 3.73875221e+05\n",
      "  4.05618026e+05 0.00000000e+00]\n",
      " [5.98457164e+05 3.65882707e+07 8.99624610e+04 ... 4.15172655e+05\n",
      "  4.26613095e+04 5.77003372e+05]\n",
      " [0.00000000e+00 7.00770707e+04 1.04429414e+06 ... 5.89806865e+04\n",
      "  2.33011867e+03 6.65985038e+04]\n",
      " ...\n",
      " [1.17704665e+05 1.50850792e+05 1.75223014e+04 ... 2.41611352e+06\n",
      "  5.94672567e+04 2.50766068e+06]\n",
      " [8.63236884e+04 2.51987109e+05 1.53679871e+05 ... 3.07855678e+05\n",
      "  9.38415104e+06 7.98961913e+06]\n",
      " [3.98089654e+05 6.67738041e+04 2.90893425e+04 ... 1.45877374e+05\n",
      "  1.64119651e+05 1.77718823e+07]]\n",
      "Absolute Error (Rows): 505.4989506845845\n",
      "Relative Error (Rows): 1.1931100451130956e-06\n",
      "Absolute Error (Cols): 4.204256193978446e-08\n",
      "Relative Error (Cols): 1.0550123730792673e-16\n"
     ]
    }
   ],
   "source": [
    "\n",
    "def modified_ras(T_initial, row_totals, col_totals, max_iterations=10000, tolerance=1e-10000):\n",
    "    \"\"\"\n",
    "    使用修正RAS方法调整矩阵T_initial，使其行和列的和分别接近row_totals和col_totals。\n",
    "    \n",
    "    参数:\n",
    "    - T_initial: 初始矩阵。\n",
    "    - row_totals: 目标行总和。\n",
    "    - col_totals: 目标列总和。\n",
    "    - max_iterations: 最大迭代次数。\n",
    "    - tolerance: 收敛容忍度。\n",
    "    \n",
    "    返回:\n",
    "    - T_adjusted: 调整后的矩阵。\n",
    "    \"\"\"\n",
    "    # 初始化\n",
    "    rows, cols = T_initial.shape\n",
    "    R = np.ones(rows)\n",
    "    S = np.ones(cols)\n",
    "    T_adjusted = np.copy(T_initial)\n",
    "    \n",
    "    for iteration in range(max_iterations):\n",
    "        # 行调整\n",
    "        row_sums = T_adjusted.sum(axis=1)\n",
    "        R = row_totals / row_sums\n",
    "        for i in range(rows):\n",
    "            T_adjusted[i, :] *= R[i]\n",
    "        \n",
    "        # 列调整\n",
    "        col_sums = T_adjusted.sum(axis=0)\n",
    "        S = col_totals / col_sums\n",
    "        for j in range(cols):\n",
    "            T_adjusted[:, j] *= S[j]\n",
    "        \n",
    "        # 检查收敛\n",
    "        if np.allclose(row_totals, T_adjusted.sum(axis=1), atol=tolerance) and \\\n",
    "           np.allclose(col_totals, T_adjusted.sum(axis=0), atol=tolerance):\n",
    "            print(f\"Converged in {iteration+1} iterations.\")\n",
    "            return T_adjusted\n",
    "    \n",
    "    print(\"Did not converge.\")\n",
    "    return T_adjusted\n",
    "\n",
    "T_adu = modified_ras(unpredict_a,row_sums,column_sums)\n",
    "# 示例使用\n",
    "# T_initial = np.random.rand(4, 4) * 100  # 初始矩阵\n",
    "# row_totals = np.array([100, 200, 300, 400])  # 目标行总和\n",
    "# col_totals = np.array([250, 350, 150, 250])  # 目标列总和\n",
    "\n",
    "# 调整矩阵\n",
    "# T_adjusted = modified_ras(T_initial, row_totals, col_totals)\n",
    "\n",
    "# print(\"调整后的矩阵:\")\n",
    "# print(T_adu)\n",
    "\n",
    "\n",
    "def calculate_accuracy(T_adjusted, row_totals, col_totals):\n",
    "    \"\"\"\n",
    "    计算调整后矩阵的精度，包括绝对误差和相对误差。\n",
    "    \n",
    "    参数:\n",
    "    - T_adjusted: 调整后的矩阵。\n",
    "    - row_totals: 目标行总和。\n",
    "    - col_totals: 目标列总和。\n",
    "    \n",
    "    返回:\n",
    "    - 绝对误差和相对误差的字典。\n",
    "    \"\"\"\n",
    "    adjusted_row_sums = T_adjusted.sum(axis=1)\n",
    "    adjusted_col_sums = T_adjusted.sum(axis=0)\n",
    "    \n",
    "    # 绝对误差\n",
    "    absolute_error_rows = np.abs(adjusted_row_sums - row_totals)\n",
    "    absolute_error_cols = np.abs(adjusted_col_sums - col_totals)\n",
    "    \n",
    "    # 相对误差\n",
    "    relative_error_rows = absolute_error_rows / row_totals\n",
    "    relative_error_cols = absolute_error_cols / col_totals\n",
    "    \n",
    "    accuracy = {\n",
    "        'Absolute Error (Rows)': absolute_error_rows,\n",
    "        'Relative Error (Rows)': relative_error_rows,\n",
    "        'Absolute Error (Cols)': absolute_error_cols,\n",
    "        'Relative Error (Cols)': relative_error_cols,\n",
    "    }\n",
    "    \n",
    "    return accuracy\n",
    "\n",
    "# 计算精度\n",
    "accuracy = calculate_accuracy(T_adu, row_sums, column_sums)\n",
    "\n",
    "# 输出精度信息\n",
    "for key, value in accuracy.items():\n",
    "    print(f\"{key}: {value.mean()}\")\n"
   ]
  },
  {
   "cell_type": "code",
   "execution_count": 43,
   "metadata": {},
   "outputs": [],
   "source": [
    "T_adu_df = pd.DataFrame(T_adu)\n",
    "T_adu_df.to_excel('output.xlsx',index=False)"
   ]
  }
 ],
 "metadata": {
  "kernelspec": {
   "display_name": "base",
   "language": "python",
   "name": "python3"
  },
  "language_info": {
   "codemirror_mode": {
    "name": "ipython",
    "version": 3
   },
   "file_extension": ".py",
   "mimetype": "text/x-python",
   "name": "python",
   "nbconvert_exporter": "python",
   "pygments_lexer": "ipython3",
   "version": "3.11.5"
  }
 },
 "nbformat": 4,
 "nbformat_minor": 2
}
